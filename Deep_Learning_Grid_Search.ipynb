{
  "nbformat": 4,
  "nbformat_minor": 0,
  "metadata": {
    "colab": {
      "name": "Deep Learning Grid Search.ipynb",
      "provenance": [],
      "collapsed_sections": []
    },
    "kernelspec": {
      "name": "python3",
      "display_name": "Python 3"
    },
    "accelerator": "GPU"
  },
  "cells": [
    {
      "cell_type": "code",
      "metadata": {
        "id": "rTPC6dnQdGSP",
        "colab_type": "code",
        "colab": {}
      },
      "source": [
        "# First Download the dataset from here https://www.kaggle.com/kumargh/pimaindiansdiabetescsv#pima-indians-diabetes.csv\n",
        "import pandas as pd\n",
        "import numpy as np"
      ],
      "execution_count": 0,
      "outputs": []
    },
    {
      "cell_type": "code",
      "metadata": {
        "id": "b7W5RFlHdPzr",
        "colab_type": "code",
        "colab": {}
      },
      "source": [
        "names = ['n_pregnant', 'glucose_concentration', 'blood_pressuer (mm Hg)', 'skin_thickness (mm)', 'serum_insulin (mu U/ml)',\n",
        "        'BMI', 'pedigree_function', 'age', 'class']\n",
        "data = pd.read_csv('pima-indians-diabetes.csv', names = names)"
      ],
      "execution_count": 0,
      "outputs": []
    },
    {
      "cell_type": "code",
      "metadata": {
        "id": "KnfwolA6d2ah",
        "colab_type": "code",
        "colab": {
          "base_uri": "https://localhost:8080/",
          "height": 221
        },
        "outputId": "ce5f9d4f-f436-4b9d-d099-82fce3b392b9"
      },
      "source": [
        "data.head()"
      ],
      "execution_count": 8,
      "outputs": [
        {
          "output_type": "execute_result",
          "data": {
            "text/html": [
              "<div>\n",
              "<style scoped>\n",
              "    .dataframe tbody tr th:only-of-type {\n",
              "        vertical-align: middle;\n",
              "    }\n",
              "\n",
              "    .dataframe tbody tr th {\n",
              "        vertical-align: top;\n",
              "    }\n",
              "\n",
              "    .dataframe thead th {\n",
              "        text-align: right;\n",
              "    }\n",
              "</style>\n",
              "<table border=\"1\" class=\"dataframe\">\n",
              "  <thead>\n",
              "    <tr style=\"text-align: right;\">\n",
              "      <th></th>\n",
              "      <th>n_pregnant</th>\n",
              "      <th>glucose_concentration</th>\n",
              "      <th>blood_pressuer (mm Hg)</th>\n",
              "      <th>skin_thickness (mm)</th>\n",
              "      <th>serum_insulin (mu U/ml)</th>\n",
              "      <th>BMI</th>\n",
              "      <th>pedigree_function</th>\n",
              "      <th>age</th>\n",
              "      <th>class</th>\n",
              "    </tr>\n",
              "  </thead>\n",
              "  <tbody>\n",
              "    <tr>\n",
              "      <th>0</th>\n",
              "      <td>6</td>\n",
              "      <td>148</td>\n",
              "      <td>72</td>\n",
              "      <td>35</td>\n",
              "      <td>0</td>\n",
              "      <td>33.6</td>\n",
              "      <td>0.627</td>\n",
              "      <td>50</td>\n",
              "      <td>1</td>\n",
              "    </tr>\n",
              "    <tr>\n",
              "      <th>1</th>\n",
              "      <td>1</td>\n",
              "      <td>85</td>\n",
              "      <td>66</td>\n",
              "      <td>29</td>\n",
              "      <td>0</td>\n",
              "      <td>26.6</td>\n",
              "      <td>0.351</td>\n",
              "      <td>31</td>\n",
              "      <td>0</td>\n",
              "    </tr>\n",
              "    <tr>\n",
              "      <th>2</th>\n",
              "      <td>8</td>\n",
              "      <td>183</td>\n",
              "      <td>64</td>\n",
              "      <td>0</td>\n",
              "      <td>0</td>\n",
              "      <td>23.3</td>\n",
              "      <td>0.672</td>\n",
              "      <td>32</td>\n",
              "      <td>1</td>\n",
              "    </tr>\n",
              "    <tr>\n",
              "      <th>3</th>\n",
              "      <td>1</td>\n",
              "      <td>89</td>\n",
              "      <td>66</td>\n",
              "      <td>23</td>\n",
              "      <td>94</td>\n",
              "      <td>28.1</td>\n",
              "      <td>0.167</td>\n",
              "      <td>21</td>\n",
              "      <td>0</td>\n",
              "    </tr>\n",
              "    <tr>\n",
              "      <th>4</th>\n",
              "      <td>0</td>\n",
              "      <td>137</td>\n",
              "      <td>40</td>\n",
              "      <td>35</td>\n",
              "      <td>168</td>\n",
              "      <td>43.1</td>\n",
              "      <td>2.288</td>\n",
              "      <td>33</td>\n",
              "      <td>1</td>\n",
              "    </tr>\n",
              "  </tbody>\n",
              "</table>\n",
              "</div>"
            ],
            "text/plain": [
              "   n_pregnant  glucose_concentration  ...  age  class\n",
              "0           6                    148  ...   50      1\n",
              "1           1                     85  ...   31      0\n",
              "2           8                    183  ...   32      1\n",
              "3           1                     89  ...   21      0\n",
              "4           0                    137  ...   33      1\n",
              "\n",
              "[5 rows x 9 columns]"
            ]
          },
          "metadata": {
            "tags": []
          },
          "execution_count": 8
        }
      ]
    },
    {
      "cell_type": "code",
      "metadata": {
        "id": "33RoPeqBd33-",
        "colab_type": "code",
        "colab": {
          "base_uri": "https://localhost:8080/",
          "height": 334
        },
        "outputId": "51b07efc-71d6-40f8-cc61-5bc8aa5912f2"
      },
      "source": [
        "# descrribe the dataset\n",
        "data.describe()"
      ],
      "execution_count": 9,
      "outputs": [
        {
          "output_type": "execute_result",
          "data": {
            "text/html": [
              "<div>\n",
              "<style scoped>\n",
              "    .dataframe tbody tr th:only-of-type {\n",
              "        vertical-align: middle;\n",
              "    }\n",
              "\n",
              "    .dataframe tbody tr th {\n",
              "        vertical-align: top;\n",
              "    }\n",
              "\n",
              "    .dataframe thead th {\n",
              "        text-align: right;\n",
              "    }\n",
              "</style>\n",
              "<table border=\"1\" class=\"dataframe\">\n",
              "  <thead>\n",
              "    <tr style=\"text-align: right;\">\n",
              "      <th></th>\n",
              "      <th>n_pregnant</th>\n",
              "      <th>glucose_concentration</th>\n",
              "      <th>blood_pressuer (mm Hg)</th>\n",
              "      <th>skin_thickness (mm)</th>\n",
              "      <th>serum_insulin (mu U/ml)</th>\n",
              "      <th>BMI</th>\n",
              "      <th>pedigree_function</th>\n",
              "      <th>age</th>\n",
              "      <th>class</th>\n",
              "    </tr>\n",
              "  </thead>\n",
              "  <tbody>\n",
              "    <tr>\n",
              "      <th>count</th>\n",
              "      <td>768.000000</td>\n",
              "      <td>768.000000</td>\n",
              "      <td>768.000000</td>\n",
              "      <td>768.000000</td>\n",
              "      <td>768.000000</td>\n",
              "      <td>768.000000</td>\n",
              "      <td>768.000000</td>\n",
              "      <td>768.000000</td>\n",
              "      <td>768.000000</td>\n",
              "    </tr>\n",
              "    <tr>\n",
              "      <th>mean</th>\n",
              "      <td>3.845052</td>\n",
              "      <td>120.894531</td>\n",
              "      <td>69.105469</td>\n",
              "      <td>20.536458</td>\n",
              "      <td>79.799479</td>\n",
              "      <td>31.992578</td>\n",
              "      <td>0.471876</td>\n",
              "      <td>33.240885</td>\n",
              "      <td>0.348958</td>\n",
              "    </tr>\n",
              "    <tr>\n",
              "      <th>std</th>\n",
              "      <td>3.369578</td>\n",
              "      <td>31.972618</td>\n",
              "      <td>19.355807</td>\n",
              "      <td>15.952218</td>\n",
              "      <td>115.244002</td>\n",
              "      <td>7.884160</td>\n",
              "      <td>0.331329</td>\n",
              "      <td>11.760232</td>\n",
              "      <td>0.476951</td>\n",
              "    </tr>\n",
              "    <tr>\n",
              "      <th>min</th>\n",
              "      <td>0.000000</td>\n",
              "      <td>0.000000</td>\n",
              "      <td>0.000000</td>\n",
              "      <td>0.000000</td>\n",
              "      <td>0.000000</td>\n",
              "      <td>0.000000</td>\n",
              "      <td>0.078000</td>\n",
              "      <td>21.000000</td>\n",
              "      <td>0.000000</td>\n",
              "    </tr>\n",
              "    <tr>\n",
              "      <th>25%</th>\n",
              "      <td>1.000000</td>\n",
              "      <td>99.000000</td>\n",
              "      <td>62.000000</td>\n",
              "      <td>0.000000</td>\n",
              "      <td>0.000000</td>\n",
              "      <td>27.300000</td>\n",
              "      <td>0.243750</td>\n",
              "      <td>24.000000</td>\n",
              "      <td>0.000000</td>\n",
              "    </tr>\n",
              "    <tr>\n",
              "      <th>50%</th>\n",
              "      <td>3.000000</td>\n",
              "      <td>117.000000</td>\n",
              "      <td>72.000000</td>\n",
              "      <td>23.000000</td>\n",
              "      <td>30.500000</td>\n",
              "      <td>32.000000</td>\n",
              "      <td>0.372500</td>\n",
              "      <td>29.000000</td>\n",
              "      <td>0.000000</td>\n",
              "    </tr>\n",
              "    <tr>\n",
              "      <th>75%</th>\n",
              "      <td>6.000000</td>\n",
              "      <td>140.250000</td>\n",
              "      <td>80.000000</td>\n",
              "      <td>32.000000</td>\n",
              "      <td>127.250000</td>\n",
              "      <td>36.600000</td>\n",
              "      <td>0.626250</td>\n",
              "      <td>41.000000</td>\n",
              "      <td>1.000000</td>\n",
              "    </tr>\n",
              "    <tr>\n",
              "      <th>max</th>\n",
              "      <td>17.000000</td>\n",
              "      <td>199.000000</td>\n",
              "      <td>122.000000</td>\n",
              "      <td>99.000000</td>\n",
              "      <td>846.000000</td>\n",
              "      <td>67.100000</td>\n",
              "      <td>2.420000</td>\n",
              "      <td>81.000000</td>\n",
              "      <td>1.000000</td>\n",
              "    </tr>\n",
              "  </tbody>\n",
              "</table>\n",
              "</div>"
            ],
            "text/plain": [
              "       n_pregnant  glucose_concentration  ...         age       class\n",
              "count  768.000000             768.000000  ...  768.000000  768.000000\n",
              "mean     3.845052             120.894531  ...   33.240885    0.348958\n",
              "std      3.369578              31.972618  ...   11.760232    0.476951\n",
              "min      0.000000               0.000000  ...   21.000000    0.000000\n",
              "25%      1.000000              99.000000  ...   24.000000    0.000000\n",
              "50%      3.000000             117.000000  ...   29.000000    0.000000\n",
              "75%      6.000000             140.250000  ...   41.000000    1.000000\n",
              "max     17.000000             199.000000  ...   81.000000    1.000000\n",
              "\n",
              "[8 rows x 9 columns]"
            ]
          },
          "metadata": {
            "tags": []
          },
          "execution_count": 9
        }
      ]
    },
    {
      "cell_type": "code",
      "metadata": {
        "id": "Q72iVhSyeWtA",
        "colab_type": "code",
        "colab": {
          "base_uri": "https://localhost:8080/",
          "height": 187
        },
        "outputId": "d29b5713-1fab-485e-a904-ed482aed877f"
      },
      "source": [
        "# no missing data\n",
        "data.isnull().sum()"
      ],
      "execution_count": 12,
      "outputs": [
        {
          "output_type": "execute_result",
          "data": {
            "text/plain": [
              "n_pregnant                 0\n",
              "glucose_concentration      0\n",
              "blood_pressuer (mm Hg)     0\n",
              "skin_thickness (mm)        0\n",
              "serum_insulin (mu U/ml)    0\n",
              "BMI                        0\n",
              "pedigree_function          0\n",
              "age                        0\n",
              "class                      0\n",
              "dtype: int64"
            ]
          },
          "metadata": {
            "tags": []
          },
          "execution_count": 12
        }
      ]
    },
    {
      "cell_type": "code",
      "metadata": {
        "id": "8cI0TRuEebAl",
        "colab_type": "code",
        "colab": {
          "base_uri": "https://localhost:8080/",
          "height": 334
        },
        "outputId": "dd112506-f9d3-40c6-998c-a3a0d711cccf"
      },
      "source": [
        "# Drop rows with missing values if in case any\n",
        "data.dropna(inplace=True)\n",
        "\n",
        "# summarize the number of rows and columns in df\n",
        "data.describe()"
      ],
      "execution_count": 13,
      "outputs": [
        {
          "output_type": "execute_result",
          "data": {
            "text/html": [
              "<div>\n",
              "<style scoped>\n",
              "    .dataframe tbody tr th:only-of-type {\n",
              "        vertical-align: middle;\n",
              "    }\n",
              "\n",
              "    .dataframe tbody tr th {\n",
              "        vertical-align: top;\n",
              "    }\n",
              "\n",
              "    .dataframe thead th {\n",
              "        text-align: right;\n",
              "    }\n",
              "</style>\n",
              "<table border=\"1\" class=\"dataframe\">\n",
              "  <thead>\n",
              "    <tr style=\"text-align: right;\">\n",
              "      <th></th>\n",
              "      <th>n_pregnant</th>\n",
              "      <th>glucose_concentration</th>\n",
              "      <th>blood_pressuer (mm Hg)</th>\n",
              "      <th>skin_thickness (mm)</th>\n",
              "      <th>serum_insulin (mu U/ml)</th>\n",
              "      <th>BMI</th>\n",
              "      <th>pedigree_function</th>\n",
              "      <th>age</th>\n",
              "      <th>class</th>\n",
              "    </tr>\n",
              "  </thead>\n",
              "  <tbody>\n",
              "    <tr>\n",
              "      <th>count</th>\n",
              "      <td>768.000000</td>\n",
              "      <td>768.000000</td>\n",
              "      <td>768.000000</td>\n",
              "      <td>768.000000</td>\n",
              "      <td>768.000000</td>\n",
              "      <td>768.000000</td>\n",
              "      <td>768.000000</td>\n",
              "      <td>768.000000</td>\n",
              "      <td>768.000000</td>\n",
              "    </tr>\n",
              "    <tr>\n",
              "      <th>mean</th>\n",
              "      <td>3.845052</td>\n",
              "      <td>120.894531</td>\n",
              "      <td>69.105469</td>\n",
              "      <td>20.536458</td>\n",
              "      <td>79.799479</td>\n",
              "      <td>31.992578</td>\n",
              "      <td>0.471876</td>\n",
              "      <td>33.240885</td>\n",
              "      <td>0.348958</td>\n",
              "    </tr>\n",
              "    <tr>\n",
              "      <th>std</th>\n",
              "      <td>3.369578</td>\n",
              "      <td>31.972618</td>\n",
              "      <td>19.355807</td>\n",
              "      <td>15.952218</td>\n",
              "      <td>115.244002</td>\n",
              "      <td>7.884160</td>\n",
              "      <td>0.331329</td>\n",
              "      <td>11.760232</td>\n",
              "      <td>0.476951</td>\n",
              "    </tr>\n",
              "    <tr>\n",
              "      <th>min</th>\n",
              "      <td>0.000000</td>\n",
              "      <td>0.000000</td>\n",
              "      <td>0.000000</td>\n",
              "      <td>0.000000</td>\n",
              "      <td>0.000000</td>\n",
              "      <td>0.000000</td>\n",
              "      <td>0.078000</td>\n",
              "      <td>21.000000</td>\n",
              "      <td>0.000000</td>\n",
              "    </tr>\n",
              "    <tr>\n",
              "      <th>25%</th>\n",
              "      <td>1.000000</td>\n",
              "      <td>99.000000</td>\n",
              "      <td>62.000000</td>\n",
              "      <td>0.000000</td>\n",
              "      <td>0.000000</td>\n",
              "      <td>27.300000</td>\n",
              "      <td>0.243750</td>\n",
              "      <td>24.000000</td>\n",
              "      <td>0.000000</td>\n",
              "    </tr>\n",
              "    <tr>\n",
              "      <th>50%</th>\n",
              "      <td>3.000000</td>\n",
              "      <td>117.000000</td>\n",
              "      <td>72.000000</td>\n",
              "      <td>23.000000</td>\n",
              "      <td>30.500000</td>\n",
              "      <td>32.000000</td>\n",
              "      <td>0.372500</td>\n",
              "      <td>29.000000</td>\n",
              "      <td>0.000000</td>\n",
              "    </tr>\n",
              "    <tr>\n",
              "      <th>75%</th>\n",
              "      <td>6.000000</td>\n",
              "      <td>140.250000</td>\n",
              "      <td>80.000000</td>\n",
              "      <td>32.000000</td>\n",
              "      <td>127.250000</td>\n",
              "      <td>36.600000</td>\n",
              "      <td>0.626250</td>\n",
              "      <td>41.000000</td>\n",
              "      <td>1.000000</td>\n",
              "    </tr>\n",
              "    <tr>\n",
              "      <th>max</th>\n",
              "      <td>17.000000</td>\n",
              "      <td>199.000000</td>\n",
              "      <td>122.000000</td>\n",
              "      <td>99.000000</td>\n",
              "      <td>846.000000</td>\n",
              "      <td>67.100000</td>\n",
              "      <td>2.420000</td>\n",
              "      <td>81.000000</td>\n",
              "      <td>1.000000</td>\n",
              "    </tr>\n",
              "  </tbody>\n",
              "</table>\n",
              "</div>"
            ],
            "text/plain": [
              "       n_pregnant  glucose_concentration  ...         age       class\n",
              "count  768.000000             768.000000  ...  768.000000  768.000000\n",
              "mean     3.845052             120.894531  ...   33.240885    0.348958\n",
              "std      3.369578              31.972618  ...   11.760232    0.476951\n",
              "min      0.000000               0.000000  ...   21.000000    0.000000\n",
              "25%      1.000000              99.000000  ...   24.000000    0.000000\n",
              "50%      3.000000             117.000000  ...   29.000000    0.000000\n",
              "75%      6.000000             140.250000  ...   41.000000    1.000000\n",
              "max     17.000000             199.000000  ...   81.000000    1.000000\n",
              "\n",
              "[8 rows x 9 columns]"
            ]
          },
          "metadata": {
            "tags": []
          },
          "execution_count": 13
        }
      ]
    },
    {
      "cell_type": "code",
      "metadata": {
        "id": "opT_LrO-fDzY",
        "colab_type": "code",
        "colab": {
          "base_uri": "https://localhost:8080/",
          "height": 34
        },
        "outputId": "c8e4e896-20b0-4b74-fb2e-c12a6bcef2a3"
      },
      "source": [
        "# Convert dataframe to numpy array\n",
        "dataset = data.values\n",
        "print(dataset.shape)"
      ],
      "execution_count": 15,
      "outputs": [
        {
          "output_type": "stream",
          "text": [
            "(768, 9)\n"
          ],
          "name": "stdout"
        }
      ]
    },
    {
      "cell_type": "code",
      "metadata": {
        "id": "3gOcBHWsfJia",
        "colab_type": "code",
        "colab": {}
      },
      "source": [
        "# split into input (X) and an output (Y)\n",
        "X = dataset[:,0:8]\n",
        "Y = dataset[:, 8].astype(int)"
      ],
      "execution_count": 0,
      "outputs": []
    },
    {
      "cell_type": "code",
      "metadata": {
        "id": "tFKijlwMfSHS",
        "colab_type": "code",
        "colab": {
          "base_uri": "https://localhost:8080/",
          "height": 68
        },
        "outputId": "296203b5-6a2e-454e-f9b3-4fb82b6c05dd"
      },
      "source": [
        "print(X.shape)\n",
        "print(Y.shape)\n",
        "print(Y[:5])"
      ],
      "execution_count": 17,
      "outputs": [
        {
          "output_type": "stream",
          "text": [
            "(768, 8)\n",
            "(768,)\n",
            "[1 0 1 0 1]\n"
          ],
          "name": "stdout"
        }
      ]
    },
    {
      "cell_type": "code",
      "metadata": {
        "id": "qjjLQB-SfVAz",
        "colab_type": "code",
        "colab": {}
      },
      "source": [
        "# Normalize the data using sklearn StandardScaler\n",
        "from sklearn.preprocessing import StandardScaler\n",
        "\n",
        "scaler = StandardScaler().fit(X)"
      ],
      "execution_count": 0,
      "outputs": []
    },
    {
      "cell_type": "code",
      "metadata": {
        "id": "M9dsHhwRfY36",
        "colab_type": "code",
        "colab": {
          "base_uri": "https://localhost:8080/",
          "height": 297
        },
        "outputId": "974eec9d-0a19-43b0-a071-fc04b494231c"
      },
      "source": [
        "# Transform and display the training data\n",
        "X_standardized = scaler.transform(X)\n",
        "\n",
        "data = pd.DataFrame(X_standardized)\n",
        "data.describe()"
      ],
      "execution_count": 19,
      "outputs": [
        {
          "output_type": "execute_result",
          "data": {
            "text/html": [
              "<div>\n",
              "<style scoped>\n",
              "    .dataframe tbody tr th:only-of-type {\n",
              "        vertical-align: middle;\n",
              "    }\n",
              "\n",
              "    .dataframe tbody tr th {\n",
              "        vertical-align: top;\n",
              "    }\n",
              "\n",
              "    .dataframe thead th {\n",
              "        text-align: right;\n",
              "    }\n",
              "</style>\n",
              "<table border=\"1\" class=\"dataframe\">\n",
              "  <thead>\n",
              "    <tr style=\"text-align: right;\">\n",
              "      <th></th>\n",
              "      <th>0</th>\n",
              "      <th>1</th>\n",
              "      <th>2</th>\n",
              "      <th>3</th>\n",
              "      <th>4</th>\n",
              "      <th>5</th>\n",
              "      <th>6</th>\n",
              "      <th>7</th>\n",
              "    </tr>\n",
              "  </thead>\n",
              "  <tbody>\n",
              "    <tr>\n",
              "      <th>count</th>\n",
              "      <td>7.680000e+02</td>\n",
              "      <td>7.680000e+02</td>\n",
              "      <td>7.680000e+02</td>\n",
              "      <td>7.680000e+02</td>\n",
              "      <td>7.680000e+02</td>\n",
              "      <td>7.680000e+02</td>\n",
              "      <td>7.680000e+02</td>\n",
              "      <td>7.680000e+02</td>\n",
              "    </tr>\n",
              "    <tr>\n",
              "      <th>mean</th>\n",
              "      <td>2.544261e-17</td>\n",
              "      <td>3.614007e-18</td>\n",
              "      <td>-1.327244e-17</td>\n",
              "      <td>7.994184e-17</td>\n",
              "      <td>-3.556183e-17</td>\n",
              "      <td>2.295979e-16</td>\n",
              "      <td>2.398978e-16</td>\n",
              "      <td>1.857600e-16</td>\n",
              "    </tr>\n",
              "    <tr>\n",
              "      <th>std</th>\n",
              "      <td>1.000652e+00</td>\n",
              "      <td>1.000652e+00</td>\n",
              "      <td>1.000652e+00</td>\n",
              "      <td>1.000652e+00</td>\n",
              "      <td>1.000652e+00</td>\n",
              "      <td>1.000652e+00</td>\n",
              "      <td>1.000652e+00</td>\n",
              "      <td>1.000652e+00</td>\n",
              "    </tr>\n",
              "    <tr>\n",
              "      <th>min</th>\n",
              "      <td>-1.141852e+00</td>\n",
              "      <td>-3.783654e+00</td>\n",
              "      <td>-3.572597e+00</td>\n",
              "      <td>-1.288212e+00</td>\n",
              "      <td>-6.928906e-01</td>\n",
              "      <td>-4.060474e+00</td>\n",
              "      <td>-1.189553e+00</td>\n",
              "      <td>-1.041549e+00</td>\n",
              "    </tr>\n",
              "    <tr>\n",
              "      <th>25%</th>\n",
              "      <td>-8.448851e-01</td>\n",
              "      <td>-6.852363e-01</td>\n",
              "      <td>-3.673367e-01</td>\n",
              "      <td>-1.288212e+00</td>\n",
              "      <td>-6.928906e-01</td>\n",
              "      <td>-5.955785e-01</td>\n",
              "      <td>-6.889685e-01</td>\n",
              "      <td>-7.862862e-01</td>\n",
              "    </tr>\n",
              "    <tr>\n",
              "      <th>50%</th>\n",
              "      <td>-2.509521e-01</td>\n",
              "      <td>-1.218877e-01</td>\n",
              "      <td>1.496408e-01</td>\n",
              "      <td>1.545332e-01</td>\n",
              "      <td>-4.280622e-01</td>\n",
              "      <td>9.419788e-04</td>\n",
              "      <td>-3.001282e-01</td>\n",
              "      <td>-3.608474e-01</td>\n",
              "    </tr>\n",
              "    <tr>\n",
              "      <th>75%</th>\n",
              "      <td>6.399473e-01</td>\n",
              "      <td>6.057709e-01</td>\n",
              "      <td>5.632228e-01</td>\n",
              "      <td>7.190857e-01</td>\n",
              "      <td>4.120079e-01</td>\n",
              "      <td>5.847705e-01</td>\n",
              "      <td>4.662269e-01</td>\n",
              "      <td>6.602056e-01</td>\n",
              "    </tr>\n",
              "    <tr>\n",
              "      <th>max</th>\n",
              "      <td>3.906578e+00</td>\n",
              "      <td>2.444478e+00</td>\n",
              "      <td>2.734528e+00</td>\n",
              "      <td>4.921866e+00</td>\n",
              "      <td>6.652839e+00</td>\n",
              "      <td>4.455807e+00</td>\n",
              "      <td>5.883565e+00</td>\n",
              "      <td>4.063716e+00</td>\n",
              "    </tr>\n",
              "  </tbody>\n",
              "</table>\n",
              "</div>"
            ],
            "text/plain": [
              "                  0             1  ...             6             7\n",
              "count  7.680000e+02  7.680000e+02  ...  7.680000e+02  7.680000e+02\n",
              "mean   2.544261e-17  3.614007e-18  ...  2.398978e-16  1.857600e-16\n",
              "std    1.000652e+00  1.000652e+00  ...  1.000652e+00  1.000652e+00\n",
              "min   -1.141852e+00 -3.783654e+00  ... -1.189553e+00 -1.041549e+00\n",
              "25%   -8.448851e-01 -6.852363e-01  ... -6.889685e-01 -7.862862e-01\n",
              "50%   -2.509521e-01 -1.218877e-01  ... -3.001282e-01 -3.608474e-01\n",
              "75%    6.399473e-01  6.057709e-01  ...  4.662269e-01  6.602056e-01\n",
              "max    3.906578e+00  2.444478e+00  ...  5.883565e+00  4.063716e+00\n",
              "\n",
              "[8 rows x 8 columns]"
            ]
          },
          "metadata": {
            "tags": []
          },
          "execution_count": 19
        }
      ]
    },
    {
      "cell_type": "code",
      "metadata": {
        "id": "PjrUtR1EfeKq",
        "colab_type": "code",
        "colab": {
          "base_uri": "https://localhost:8080/",
          "height": 34
        },
        "outputId": "1597ee00-eb49-477a-c35b-1ccade36f14c"
      },
      "source": [
        "# import necessary sklearn and keras packages\n",
        "from sklearn.model_selection import GridSearchCV, KFold\n",
        "from keras.models import Sequential\n",
        "from keras.layers import Dense\n",
        "from keras.wrappers.scikit_learn import KerasClassifier\n",
        "from keras.optimizers import Adam"
      ],
      "execution_count": 20,
      "outputs": [
        {
          "output_type": "stream",
          "text": [
            "Using TensorFlow backend.\n"
          ],
          "name": "stderr"
        }
      ]
    },
    {
      "cell_type": "code",
      "metadata": {
        "id": "UkifK6npfjZK",
        "colab_type": "code",
        "colab": {
          "base_uri": "https://localhost:8080/",
          "height": 272
        },
        "outputId": "025d8e80-abc7-4e4b-c661-c0284bacb357"
      },
      "source": [
        "# Start defining the model\n",
        "def create_model():\n",
        "    # create model\n",
        "    model = Sequential()\n",
        "    model.add(Dense(8, input_dim = 8, kernel_initializer='normal', activation='relu'))\n",
        "    model.add(Dense(4, input_dim = 8, kernel_initializer='normal', activation='relu'))\n",
        "    model.add(Dense(1, activation='sigmoid'))\n",
        "    \n",
        "    # compile the model\n",
        "    adam = Adam(lr = 0.01)\n",
        "    model.compile(loss = 'binary_crossentropy', optimizer = adam, metrics = ['accuracy'])\n",
        "    return model\n",
        "\n",
        "model = create_model()\n",
        "print(model.summary())"
      ],
      "execution_count": 21,
      "outputs": [
        {
          "output_type": "stream",
          "text": [
            "Model: \"sequential_1\"\n",
            "_________________________________________________________________\n",
            "Layer (type)                 Output Shape              Param #   \n",
            "=================================================================\n",
            "dense_1 (Dense)              (None, 8)                 72        \n",
            "_________________________________________________________________\n",
            "dense_2 (Dense)              (None, 4)                 36        \n",
            "_________________________________________________________________\n",
            "dense_3 (Dense)              (None, 1)                 5         \n",
            "=================================================================\n",
            "Total params: 113\n",
            "Trainable params: 113\n",
            "Non-trainable params: 0\n",
            "_________________________________________________________________\n",
            "None\n"
          ],
          "name": "stdout"
        }
      ]
    },
    {
      "cell_type": "code",
      "metadata": {
        "id": "eGrK2ayUfqh5",
        "colab_type": "code",
        "colab": {}
      },
      "source": [
        "# define a random seed\n",
        "seed = 6\n",
        "np.random.seed(6)"
      ],
      "execution_count": 0,
      "outputs": []
    },
    {
      "cell_type": "code",
      "metadata": {
        "id": "Zek3UuAdgX0d",
        "colab_type": "code",
        "colab": {}
      },
      "source": [
        "# initializing the model with Keras Classifier\n",
        "model = KerasClassifier(build_fn=create_model,verbose=0)"
      ],
      "execution_count": 0,
      "outputs": []
    },
    {
      "cell_type": "code",
      "metadata": {
        "id": "tffz71_sgqb4",
        "colab_type": "code",
        "colab": {}
      },
      "source": [
        "# define the grid search parameters\n",
        "batch_size = [10, 20, 30] # number of steps to take while updating the gradient parameters\n",
        "epochs = [10, 20, 30]"
      ],
      "execution_count": 0,
      "outputs": []
    },
    {
      "cell_type": "code",
      "metadata": {
        "id": "mspunR4QhALX",
        "colab_type": "code",
        "colab": {}
      },
      "source": [
        "# make a dictionary of the grid search parameters\n",
        "grid_params = {'batch_size':batch_size,'epochs':epochs}"
      ],
      "execution_count": 0,
      "outputs": []
    },
    {
      "cell_type": "code",
      "metadata": {
        "id": "yUozMGURhNx2",
        "colab_type": "code",
        "colab": {
          "base_uri": "https://localhost:8080/",
          "height": 1000
        },
        "outputId": "925a3805-4992-4fc5-aecf-de2835f52144"
      },
      "source": [
        "# build and fit the GridSearchCV\n",
        "grid = GridSearchCV(estimator=model,param_grid = grid_params,cv=KFold(random_state=seed),verbose=10)\n",
        "grid_search = grid.fit(X_standardized,Y)"
      ],
      "execution_count": 29,
      "outputs": [
        {
          "output_type": "stream",
          "text": [
            "/usr/local/lib/python3.6/dist-packages/sklearn/model_selection/_split.py:296: FutureWarning: Setting a random_state has no effect since shuffle is False. This will raise an error in 0.24. You should leave random_state to its default (None), or set shuffle=True.\n",
            "  FutureWarning\n",
            "[Parallel(n_jobs=1)]: Using backend SequentialBackend with 1 concurrent workers.\n"
          ],
          "name": "stderr"
        },
        {
          "output_type": "stream",
          "text": [
            "Fitting 5 folds for each of 9 candidates, totalling 45 fits\n",
            "[CV] batch_size=10, epochs=10 ........................................\n",
            "[CV] ............ batch_size=10, epochs=10, score=0.740, total=   4.5s\n",
            "[CV] batch_size=10, epochs=10 ........................................\n"
          ],
          "name": "stdout"
        },
        {
          "output_type": "stream",
          "text": [
            "[Parallel(n_jobs=1)]: Done   1 out of   1 | elapsed:    4.5s remaining:    0.0s\n"
          ],
          "name": "stderr"
        },
        {
          "output_type": "stream",
          "text": [
            "[CV] ............ batch_size=10, epochs=10, score=0.727, total=   2.8s\n",
            "[CV] batch_size=10, epochs=10 ........................................\n"
          ],
          "name": "stdout"
        },
        {
          "output_type": "stream",
          "text": [
            "[Parallel(n_jobs=1)]: Done   2 out of   2 | elapsed:    7.2s remaining:    0.0s\n"
          ],
          "name": "stderr"
        },
        {
          "output_type": "stream",
          "text": [
            "[CV] ............ batch_size=10, epochs=10, score=0.773, total=   2.8s\n",
            "[CV] batch_size=10, epochs=10 ........................................\n"
          ],
          "name": "stdout"
        },
        {
          "output_type": "stream",
          "text": [
            "[Parallel(n_jobs=1)]: Done   3 out of   3 | elapsed:   10.1s remaining:    0.0s\n"
          ],
          "name": "stderr"
        },
        {
          "output_type": "stream",
          "text": [
            "[CV] ............ batch_size=10, epochs=10, score=0.804, total=   3.1s\n",
            "[CV] batch_size=10, epochs=10 ........................................\n"
          ],
          "name": "stdout"
        },
        {
          "output_type": "stream",
          "text": [
            "[Parallel(n_jobs=1)]: Done   4 out of   4 | elapsed:   13.2s remaining:    0.0s\n"
          ],
          "name": "stderr"
        },
        {
          "output_type": "stream",
          "text": [
            "[CV] ............ batch_size=10, epochs=10, score=0.765, total=   2.9s\n",
            "[CV] batch_size=10, epochs=20 ........................................\n"
          ],
          "name": "stdout"
        },
        {
          "output_type": "stream",
          "text": [
            "[Parallel(n_jobs=1)]: Done   5 out of   5 | elapsed:   16.0s remaining:    0.0s\n"
          ],
          "name": "stderr"
        },
        {
          "output_type": "stream",
          "text": [
            "[CV] ............ batch_size=10, epochs=20, score=0.747, total=   5.0s\n",
            "[CV] batch_size=10, epochs=20 ........................................\n"
          ],
          "name": "stdout"
        },
        {
          "output_type": "stream",
          "text": [
            "[Parallel(n_jobs=1)]: Done   6 out of   6 | elapsed:   21.1s remaining:    0.0s\n"
          ],
          "name": "stderr"
        },
        {
          "output_type": "stream",
          "text": [
            "[CV] ............ batch_size=10, epochs=20, score=0.714, total=   4.9s\n",
            "[CV] batch_size=10, epochs=20 ........................................\n"
          ],
          "name": "stdout"
        },
        {
          "output_type": "stream",
          "text": [
            "[Parallel(n_jobs=1)]: Done   7 out of   7 | elapsed:   26.0s remaining:    0.0s\n"
          ],
          "name": "stderr"
        },
        {
          "output_type": "stream",
          "text": [
            "[CV] ............ batch_size=10, epochs=20, score=0.773, total=   5.0s\n",
            "[CV] batch_size=10, epochs=20 ........................................\n"
          ],
          "name": "stdout"
        },
        {
          "output_type": "stream",
          "text": [
            "[Parallel(n_jobs=1)]: Done   8 out of   8 | elapsed:   31.0s remaining:    0.0s\n"
          ],
          "name": "stderr"
        },
        {
          "output_type": "stream",
          "text": [
            "[CV] ............ batch_size=10, epochs=20, score=0.824, total=   5.0s\n",
            "[CV] batch_size=10, epochs=20 ........................................\n"
          ],
          "name": "stdout"
        },
        {
          "output_type": "stream",
          "text": [
            "[Parallel(n_jobs=1)]: Done   9 out of   9 | elapsed:   36.0s remaining:    0.0s\n"
          ],
          "name": "stderr"
        },
        {
          "output_type": "stream",
          "text": [
            "[CV] ............ batch_size=10, epochs=20, score=0.771, total=   4.9s\n",
            "[CV] batch_size=10, epochs=30 ........................................\n",
            "[CV] ............ batch_size=10, epochs=30, score=0.740, total=   7.1s\n",
            "[CV] batch_size=10, epochs=30 ........................................\n",
            "[CV] ............ batch_size=10, epochs=30, score=0.721, total=   7.0s\n",
            "[CV] batch_size=10, epochs=30 ........................................\n",
            "[CV] ............ batch_size=10, epochs=30, score=0.766, total=   7.1s\n",
            "[CV] batch_size=10, epochs=30 ........................................\n",
            "[CV] ............ batch_size=10, epochs=30, score=0.824, total=   7.1s\n",
            "[CV] batch_size=10, epochs=30 ........................................\n",
            "[CV] ............ batch_size=10, epochs=30, score=0.752, total=   7.3s\n",
            "[CV] batch_size=20, epochs=10 ........................................\n",
            "[CV] ............ batch_size=20, epochs=10, score=0.727, total=   1.9s\n",
            "[CV] batch_size=20, epochs=10 ........................................\n",
            "[CV] ............ batch_size=20, epochs=10, score=0.714, total=   2.0s\n",
            "[CV] batch_size=20, epochs=10 ........................................\n",
            "[CV] ............ batch_size=20, epochs=10, score=0.760, total=   1.9s\n",
            "[CV] batch_size=20, epochs=10 ........................................\n",
            "[CV] ............ batch_size=20, epochs=10, score=0.817, total=   1.9s\n",
            "[CV] batch_size=20, epochs=10 ........................................\n",
            "[CV] ............ batch_size=20, epochs=10, score=0.771, total=   1.8s\n",
            "[CV] batch_size=20, epochs=20 ........................................\n",
            "[CV] ............ batch_size=20, epochs=20, score=0.734, total=   2.9s\n",
            "[CV] batch_size=20, epochs=20 ........................................\n",
            "[CV] ............ batch_size=20, epochs=20, score=0.695, total=   2.9s\n",
            "[CV] batch_size=20, epochs=20 ........................................\n",
            "[CV] ............ batch_size=20, epochs=20, score=0.786, total=   2.8s\n",
            "[CV] batch_size=20, epochs=20 ........................................\n",
            "[CV] ............ batch_size=20, epochs=20, score=0.863, total=   3.0s\n",
            "[CV] batch_size=20, epochs=20 ........................................\n",
            "[CV] ............ batch_size=20, epochs=20, score=0.758, total=   3.2s\n",
            "[CV] batch_size=20, epochs=30 ........................................\n",
            "[CV] ............ batch_size=20, epochs=30, score=0.753, total=   3.9s\n",
            "[CV] batch_size=20, epochs=30 ........................................\n",
            "[CV] ............ batch_size=20, epochs=30, score=0.682, total=   4.0s\n",
            "[CV] batch_size=20, epochs=30 ........................................\n",
            "[CV] ............ batch_size=20, epochs=30, score=0.799, total=   4.0s\n",
            "[CV] batch_size=20, epochs=30 ........................................\n",
            "[CV] ............ batch_size=20, epochs=30, score=0.817, total=   4.0s\n",
            "[CV] batch_size=20, epochs=30 ........................................\n",
            "[CV] ............ batch_size=20, epochs=30, score=0.752, total=   3.8s\n",
            "[CV] batch_size=30, epochs=10 ........................................\n",
            "[CV] ............ batch_size=30, epochs=10, score=0.753, total=   1.5s\n",
            "[CV] batch_size=30, epochs=10 ........................................\n",
            "[CV] ............ batch_size=30, epochs=10, score=0.721, total=   1.4s\n",
            "[CV] batch_size=30, epochs=10 ........................................\n",
            "[CV] ............ batch_size=30, epochs=10, score=0.779, total=   1.5s\n",
            "[CV] batch_size=30, epochs=10 ........................................\n",
            "[CV] ............ batch_size=30, epochs=10, score=0.850, total=   1.4s\n",
            "[CV] batch_size=30, epochs=10 ........................................\n",
            "[CV] ............ batch_size=30, epochs=10, score=0.765, total=   1.4s\n",
            "[CV] batch_size=30, epochs=20 ........................................\n",
            "[CV] ............ batch_size=30, epochs=20, score=0.760, total=   2.4s\n",
            "[CV] batch_size=30, epochs=20 ........................................\n",
            "[CV] ............ batch_size=30, epochs=20, score=0.701, total=   2.2s\n",
            "[CV] batch_size=30, epochs=20 ........................................\n",
            "[CV] ............ batch_size=30, epochs=20, score=0.630, total=   2.2s\n",
            "[CV] batch_size=30, epochs=20 ........................................\n",
            "[CV] ............ batch_size=30, epochs=20, score=0.843, total=   2.3s\n",
            "[CV] batch_size=30, epochs=20 ........................................\n",
            "[CV] ............ batch_size=30, epochs=20, score=0.778, total=   2.2s\n",
            "[CV] batch_size=30, epochs=30 ........................................\n",
            "[CV] ............ batch_size=30, epochs=30, score=0.734, total=   3.1s\n",
            "[CV] batch_size=30, epochs=30 ........................................\n",
            "[CV] ............ batch_size=30, epochs=30, score=0.727, total=   2.8s\n",
            "[CV] batch_size=30, epochs=30 ........................................\n",
            "[CV] ............ batch_size=30, epochs=30, score=0.766, total=   2.8s\n",
            "[CV] batch_size=30, epochs=30 ........................................\n",
            "[CV] ............ batch_size=30, epochs=30, score=0.830, total=   3.1s\n",
            "[CV] batch_size=30, epochs=30 ........................................\n",
            "[CV] ............ batch_size=30, epochs=30, score=0.784, total=   2.8s\n"
          ],
          "name": "stdout"
        },
        {
          "output_type": "stream",
          "text": [
            "[Parallel(n_jobs=1)]: Done  45 out of  45 | elapsed:  2.6min finished\n"
          ],
          "name": "stderr"
        }
      ]
    },
    {
      "cell_type": "code",
      "metadata": {
        "id": "X0BEMoxriHgO",
        "colab_type": "code",
        "colab": {
          "base_uri": "https://localhost:8080/",
          "height": 34
        },
        "outputId": "262d7382-cec5-4acb-ad50-d5aee53e0dc9"
      },
      "source": [
        "# summarize the results\n",
        "print(\"Best: {0}, using {1}\".format(grid_search.best_score_, grid_search.best_params_))"
      ],
      "execution_count": 30,
      "outputs": [
        {
          "output_type": "stream",
          "text": [
            "Best: 0.7735251665115357, using {'batch_size': 30, 'epochs': 10}\n"
          ],
          "name": "stdout"
        }
      ]
    },
    {
      "cell_type": "code",
      "metadata": {
        "id": "HTuuppSyiiPl",
        "colab_type": "code",
        "colab": {
          "base_uri": "https://localhost:8080/",
          "height": 170
        },
        "outputId": "668783a5-da0a-445b-a0ce-d7f7f6943f35"
      },
      "source": [
        "# finding mean and standard deviation\n",
        "means = grid_search.cv_results_['mean_test_score']\n",
        "stds = grid_search.cv_results_['std_test_score']\n",
        "params = grid_search.cv_results_['params']\n",
        "for mean, stdev, param in zip(means, stds, params):\n",
        "    print('{0} ({1}) with: {2}'.format(mean, stdev, param))"
      ],
      "execution_count": 32,
      "outputs": [
        {
          "output_type": "stream",
          "text": [
            "0.7617774486541748 (0.026676531842905738) with: {'batch_size': 10, 'epochs': 10}\n",
            "0.765707504749298 (0.03585175445243406) with: {'batch_size': 10, 'epochs': 20}\n",
            "0.7604872345924377 (0.03484707964060877) with: {'batch_size': 10, 'epochs': 30}\n",
            "0.7579068064689636 (0.036093386495441054) with: {'batch_size': 20, 'epochs': 10}\n",
            "0.7670401573181153 (0.05641255360529237) with: {'batch_size': 20, 'epochs': 20}\n",
            "0.7604787349700928 (0.04684632817461764) with: {'batch_size': 20, 'epochs': 30}\n",
            "0.7735251665115357 (0.04266636153256992) with: {'batch_size': 30, 'epochs': 10}\n",
            "0.7423648238182068 (0.07218386576628581) with: {'batch_size': 30, 'epochs': 20}\n",
            "0.7683303713798523 (0.037286673730105066) with: {'batch_size': 30, 'epochs': 30}\n"
          ],
          "name": "stdout"
        }
      ]
    },
    {
      "cell_type": "markdown",
      "metadata": {
        "id": "ZeWtO7S9i-Zo",
        "colab_type": "text"
      },
      "source": [
        " <h1>Grid Search for DropOut and Learning Rate</h1>"
      ]
    },
    {
      "cell_type": "code",
      "metadata": {
        "id": "1w7vNSQ6jJbh",
        "colab_type": "code",
        "colab": {}
      },
      "source": [
        "# Do a grid search for learning rate and dropout rate\n",
        "# import necessary packages\n",
        "from keras.layers import Dropout\n",
        "\n",
        "# Define a random seed\n",
        "seed = 6\n",
        "np.random.seed(seed)\n",
        "\n",
        "# Start defining the model\n",
        "def create_model(learn_rate, dropout_rate):\n",
        "    # create model\n",
        "    model = Sequential()\n",
        "    model.add(Dense(8, input_dim = 8, kernel_initializer='normal', activation='relu'))\n",
        "    model.add(Dropout(dropout_rate))\n",
        "    model.add(Dense(4, input_dim = 8, kernel_initializer='normal', activation='relu'))\n",
        "    model.add(Dropout(dropout_rate))\n",
        "    model.add(Dense(1, activation='sigmoid'))\n",
        "    \n",
        "    # compile the model\n",
        "    adam = Adam(lr = learn_rate)\n",
        "    model.compile(loss = 'binary_crossentropy', optimizer = adam, metrics = ['accuracy'])\n",
        "    return model\n",
        "\n",
        "# create the model\n",
        "model = KerasClassifier(build_fn = create_model, epochs = 100, batch_size = 20, verbose = 0)"
      ],
      "execution_count": 0,
      "outputs": []
    },
    {
      "cell_type": "code",
      "metadata": {
        "id": "waP8U0Ikl9rX",
        "colab_type": "code",
        "colab": {}
      },
      "source": [
        "# define the grid search parameters\n",
        "learn_rate = [0.001, 0.01, 0.1]\n",
        "dropout_rate = [0.0, 0.1, 0.2]\n",
        "\n",
        "# make a dictionary of the grid search parameters\n",
        "param_grid = dict(learn_rate=learn_rate, dropout_rate=dropout_rate)\n",
        "\n",
        "# build and fit the GridSearchCV\n",
        "grid = GridSearchCV(estimator = model, param_grid = param_grid, cv = KFold(random_state=seed), verbose = 10)\n",
        "grid_results = grid.fit(X_standardized, Y)"
      ],
      "execution_count": 0,
      "outputs": []
    },
    {
      "cell_type": "code",
      "metadata": {
        "id": "irxE4oHol4Ej",
        "colab_type": "code",
        "colab": {
          "base_uri": "https://localhost:8080/",
          "height": 187
        },
        "outputId": "f0a11b93-4e21-492c-a863-67b352259e72"
      },
      "source": [
        "# summarize the results\n",
        "print(\"Best: {0}, using {1}\".format(grid_results.best_score_, grid_results.best_params_))\n",
        "means = grid_results.cv_results_['mean_test_score']\n",
        "stds = grid_results.cv_results_['std_test_score']\n",
        "params = grid_results.cv_results_['params']\n",
        "for mean, stdev, param in zip(means, stds, params):\n",
        "    print('{0} ({1}) with: {2}'.format(mean, stdev, param)) "
      ],
      "execution_count": 36,
      "outputs": [
        {
          "output_type": "stream",
          "text": [
            "Best: 0.764417290687561, using {'dropout_rate': 0.1, 'learn_rate': 0.001}\n",
            "0.763118588924408 (0.03971927065385651) with: {'dropout_rate': 0.0, 'learn_rate': 0.001}\n",
            "0.7396146416664123 (0.02014312516041011) with: {'dropout_rate': 0.0, 'learn_rate': 0.01}\n",
            "0.7200916886329651 (0.025276069422086586) with: {'dropout_rate': 0.0, 'learn_rate': 0.1}\n",
            "0.764417290687561 (0.04262142433431348) with: {'dropout_rate': 0.1, 'learn_rate': 0.001}\n",
            "0.7319412708282471 (0.06718432066749278) with: {'dropout_rate': 0.1, 'learn_rate': 0.01}\n",
            "0.7266021728515625 (0.026242483865176202) with: {'dropout_rate': 0.1, 'learn_rate': 0.1}\n",
            "0.7578983187675477 (0.041658499402744895) with: {'dropout_rate': 0.2, 'learn_rate': 0.001}\n",
            "0.7540022134780884 (0.03678098293284524) with: {'dropout_rate': 0.2, 'learn_rate': 0.01}\n",
            "0.7292420148849488 (0.0355042525386449) with: {'dropout_rate': 0.2, 'learn_rate': 0.1}\n"
          ],
          "name": "stdout"
        }
      ]
    },
    {
      "cell_type": "markdown",
      "metadata": {
        "id": "CddsGdfuj6Bk",
        "colab_type": "text"
      },
      "source": [
        "<h1>Grid search to optimize kernel initialization and activation functions</h1>"
      ]
    },
    {
      "cell_type": "code",
      "metadata": {
        "id": "1rcRq21bjjAY",
        "colab_type": "code",
        "colab": {
          "base_uri": "https://localhost:8080/",
          "height": 1000
        },
        "outputId": "4f10afcf-a4f2-42ad-9a0e-21f908602768"
      },
      "source": [
        "# Do a grid search to optimize kernel initialization and activation functions\n",
        "# import necessary packages\n",
        "\n",
        "# Define a random seed\n",
        "seed = 6\n",
        "np.random.seed(seed)\n",
        "\n",
        "# Start defining the model\n",
        "def create_model(activation, init):\n",
        "    # create model\n",
        "    model = Sequential()\n",
        "    model.add(Dense(8, input_dim = 8, kernel_initializer= init, activation= activation))\n",
        "    model.add(Dense(4, input_dim = 8, kernel_initializer= init, activation= activation))\n",
        "    model.add(Dense(1, activation='sigmoid'))\n",
        "    \n",
        "    # compile the model\n",
        "    adam = Adam(lr = 0.001)\n",
        "    model.compile(loss = 'binary_crossentropy', optimizer = adam, metrics = ['accuracy'])\n",
        "    return model\n",
        "\n",
        "# create the model\n",
        "model = KerasClassifier(build_fn = create_model, epochs = 100, batch_size = 20, verbose = 0)\n",
        "\n",
        "# define the grid search parameters\n",
        "activation = ['softmax', 'relu', 'tanh', 'linear'] # most common activations\n",
        "init = ['uniform', 'normal', 'zero'] #kernel initializer\n",
        "\n",
        "# make a dictionary of the grid search parameters\n",
        "param_grid = dict(activation = activation, init = init)\n",
        "\n",
        "# build and fit the GridSearchCV\n",
        "grid = GridSearchCV(estimator = model, param_grid = param_grid, cv = KFold(random_state=seed), verbose = 10)\n",
        "grid_results = grid.fit(X_standardized, Y)\n",
        "\n",
        "# summarize the results\n",
        "print(\"Best: {0}, using {1}\".format(grid_results.best_score_, grid_results.best_params_))\n",
        "means = grid_results.cv_results_['mean_test_score']\n",
        "stds = grid_results.cv_results_['std_test_score']\n",
        "params = grid_results.cv_results_['params']\n",
        "for mean, stdev, param in zip(means, stds, params):\n",
        "    print('{0} ({1}) with: {2}'.format(mean, stdev, param))"
      ],
      "execution_count": 38,
      "outputs": [
        {
          "output_type": "stream",
          "text": [
            "/usr/local/lib/python3.6/dist-packages/sklearn/model_selection/_split.py:296: FutureWarning: Setting a random_state has no effect since shuffle is False. This will raise an error in 0.24. You should leave random_state to its default (None), or set shuffle=True.\n",
            "  FutureWarning\n",
            "[Parallel(n_jobs=1)]: Using backend SequentialBackend with 1 concurrent workers.\n"
          ],
          "name": "stderr"
        },
        {
          "output_type": "stream",
          "text": [
            "Fitting 5 folds for each of 12 candidates, totalling 60 fits\n",
            "[CV] activation=softmax, init=uniform ................................\n",
            "[CV] .... activation=softmax, init=uniform, score=0.747, total=  12.5s\n",
            "[CV] activation=softmax, init=uniform ................................\n"
          ],
          "name": "stdout"
        },
        {
          "output_type": "stream",
          "text": [
            "[Parallel(n_jobs=1)]: Done   1 out of   1 | elapsed:   12.5s remaining:    0.0s\n"
          ],
          "name": "stderr"
        },
        {
          "output_type": "stream",
          "text": [
            "[CV] .... activation=softmax, init=uniform, score=0.708, total=  11.7s\n",
            "[CV] activation=softmax, init=uniform ................................\n"
          ],
          "name": "stdout"
        },
        {
          "output_type": "stream",
          "text": [
            "[Parallel(n_jobs=1)]: Done   2 out of   2 | elapsed:   24.1s remaining:    0.0s\n"
          ],
          "name": "stderr"
        },
        {
          "output_type": "stream",
          "text": [
            "[CV] .... activation=softmax, init=uniform, score=0.773, total=  12.1s\n",
            "[CV] activation=softmax, init=uniform ................................\n"
          ],
          "name": "stdout"
        },
        {
          "output_type": "stream",
          "text": [
            "[Parallel(n_jobs=1)]: Done   3 out of   3 | elapsed:   36.2s remaining:    0.0s\n"
          ],
          "name": "stderr"
        },
        {
          "output_type": "stream",
          "text": [
            "[CV] .... activation=softmax, init=uniform, score=0.830, total=  11.6s\n",
            "[CV] activation=softmax, init=uniform ................................\n"
          ],
          "name": "stdout"
        },
        {
          "output_type": "stream",
          "text": [
            "[Parallel(n_jobs=1)]: Done   4 out of   4 | elapsed:   47.8s remaining:    0.0s\n"
          ],
          "name": "stderr"
        },
        {
          "output_type": "stream",
          "text": [
            "[CV] .... activation=softmax, init=uniform, score=0.758, total=  11.7s\n",
            "[CV] activation=softmax, init=normal .................................\n"
          ],
          "name": "stdout"
        },
        {
          "output_type": "stream",
          "text": [
            "[Parallel(n_jobs=1)]: Done   5 out of   5 | elapsed:   59.6s remaining:    0.0s\n"
          ],
          "name": "stderr"
        },
        {
          "output_type": "stream",
          "text": [
            "[CV] ..... activation=softmax, init=normal, score=0.734, total=  11.8s\n",
            "[CV] activation=softmax, init=normal .................................\n"
          ],
          "name": "stdout"
        },
        {
          "output_type": "stream",
          "text": [
            "[Parallel(n_jobs=1)]: Done   6 out of   6 | elapsed:  1.2min remaining:    0.0s\n"
          ],
          "name": "stderr"
        },
        {
          "output_type": "stream",
          "text": [
            "[CV] ..... activation=softmax, init=normal, score=0.708, total=  12.3s\n",
            "[CV] activation=softmax, init=normal .................................\n"
          ],
          "name": "stdout"
        },
        {
          "output_type": "stream",
          "text": [
            "[Parallel(n_jobs=1)]: Done   7 out of   7 | elapsed:  1.4min remaining:    0.0s\n"
          ],
          "name": "stderr"
        },
        {
          "output_type": "stream",
          "text": [
            "[CV] ..... activation=softmax, init=normal, score=0.760, total=  11.9s\n",
            "[CV] activation=softmax, init=normal .................................\n"
          ],
          "name": "stdout"
        },
        {
          "output_type": "stream",
          "text": [
            "[Parallel(n_jobs=1)]: Done   8 out of   8 | elapsed:  1.6min remaining:    0.0s\n"
          ],
          "name": "stderr"
        },
        {
          "output_type": "stream",
          "text": [
            "[CV] ..... activation=softmax, init=normal, score=0.837, total=  11.9s\n",
            "[CV] activation=softmax, init=normal .................................\n"
          ],
          "name": "stdout"
        },
        {
          "output_type": "stream",
          "text": [
            "[Parallel(n_jobs=1)]: Done   9 out of   9 | elapsed:  1.8min remaining:    0.0s\n"
          ],
          "name": "stderr"
        },
        {
          "output_type": "stream",
          "text": [
            "[CV] ..... activation=softmax, init=normal, score=0.758, total=  11.9s\n",
            "[CV] activation=softmax, init=zero ...................................\n",
            "[CV] ....... activation=softmax, init=zero, score=0.649, total=  12.0s\n",
            "[CV] activation=softmax, init=zero ...................................\n",
            "[CV] ....... activation=softmax, init=zero, score=0.584, total=  11.9s\n",
            "[CV] activation=softmax, init=zero ...................................\n",
            "[CV] ....... activation=softmax, init=zero, score=0.630, total=  11.5s\n",
            "[CV] activation=softmax, init=zero ...................................\n",
            "[CV] ....... activation=softmax, init=zero, score=0.745, total=  12.2s\n",
            "[CV] activation=softmax, init=zero ...................................\n",
            "[CV] ....... activation=softmax, init=zero, score=0.647, total=  12.3s\n",
            "[CV] activation=relu, init=uniform ...................................\n",
            "[CV] ....... activation=relu, init=uniform, score=0.747, total=  11.5s\n",
            "[CV] activation=relu, init=uniform ...................................\n",
            "[CV] ....... activation=relu, init=uniform, score=0.701, total=  12.1s\n",
            "[CV] activation=relu, init=uniform ...................................\n",
            "[CV] ....... activation=relu, init=uniform, score=0.773, total=  12.0s\n",
            "[CV] activation=relu, init=uniform ...................................\n",
            "[CV] ....... activation=relu, init=uniform, score=0.843, total=  11.5s\n",
            "[CV] activation=relu, init=uniform ...................................\n",
            "[CV] ....... activation=relu, init=uniform, score=0.778, total=  12.2s\n",
            "[CV] activation=relu, init=normal ....................................\n",
            "[CV] ........ activation=relu, init=normal, score=0.747, total=  11.4s\n",
            "[CV] activation=relu, init=normal ....................................\n",
            "[CV] ........ activation=relu, init=normal, score=0.708, total=  11.7s\n",
            "[CV] activation=relu, init=normal ....................................\n",
            "[CV] ........ activation=relu, init=normal, score=0.779, total=  11.7s\n",
            "[CV] activation=relu, init=normal ....................................\n",
            "[CV] ........ activation=relu, init=normal, score=0.837, total=  11.7s\n",
            "[CV] activation=relu, init=normal ....................................\n",
            "[CV] ........ activation=relu, init=normal, score=0.765, total=  11.5s\n",
            "[CV] activation=relu, init=zero ......................................\n",
            "[CV] .......... activation=relu, init=zero, score=0.649, total=  12.9s\n",
            "[CV] activation=relu, init=zero ......................................\n",
            "[CV] .......... activation=relu, init=zero, score=0.584, total=  11.7s\n",
            "[CV] activation=relu, init=zero ......................................\n",
            "[CV] .......... activation=relu, init=zero, score=0.630, total=  11.2s\n",
            "[CV] activation=relu, init=zero ......................................\n",
            "[CV] .......... activation=relu, init=zero, score=0.745, total=  11.1s\n",
            "[CV] activation=relu, init=zero ......................................\n",
            "[CV] .......... activation=relu, init=zero, score=0.647, total=  11.2s\n",
            "[CV] activation=tanh, init=uniform ...................................\n",
            "[CV] ....... activation=tanh, init=uniform, score=0.760, total=  11.6s\n",
            "[CV] activation=tanh, init=uniform ...................................\n",
            "[CV] ....... activation=tanh, init=uniform, score=0.734, total=  11.1s\n",
            "[CV] activation=tanh, init=uniform ...................................\n",
            "[CV] ....... activation=tanh, init=uniform, score=0.760, total=  11.1s\n",
            "[CV] activation=tanh, init=uniform ...................................\n",
            "[CV] ....... activation=tanh, init=uniform, score=0.843, total=  11.8s\n",
            "[CV] activation=tanh, init=uniform ...................................\n",
            "[CV] ....... activation=tanh, init=uniform, score=0.752, total=  11.6s\n",
            "[CV] activation=tanh, init=normal ....................................\n",
            "[CV] ........ activation=tanh, init=normal, score=0.760, total=  11.7s\n",
            "[CV] activation=tanh, init=normal ....................................\n",
            "[CV] ........ activation=tanh, init=normal, score=0.734, total=  11.4s\n",
            "[CV] activation=tanh, init=normal ....................................\n",
            "[CV] ........ activation=tanh, init=normal, score=0.773, total=  11.7s\n",
            "[CV] activation=tanh, init=normal ....................................\n",
            "[CV] ........ activation=tanh, init=normal, score=0.850, total=  11.6s\n",
            "[CV] activation=tanh, init=normal ....................................\n",
            "[CV] ........ activation=tanh, init=normal, score=0.752, total=  11.6s\n",
            "[CV] activation=tanh, init=zero ......................................\n",
            "[CV] .......... activation=tanh, init=zero, score=0.649, total=  12.0s\n",
            "[CV] activation=tanh, init=zero ......................................\n",
            "[CV] .......... activation=tanh, init=zero, score=0.584, total=  11.4s\n",
            "[CV] activation=tanh, init=zero ......................................\n",
            "[CV] .......... activation=tanh, init=zero, score=0.630, total=  11.6s\n",
            "[CV] activation=tanh, init=zero ......................................\n",
            "[CV] .......... activation=tanh, init=zero, score=0.745, total=  11.4s\n",
            "[CV] activation=tanh, init=zero ......................................\n",
            "[CV] .......... activation=tanh, init=zero, score=0.647, total=  11.6s\n",
            "[CV] activation=linear, init=uniform .................................\n",
            "[CV] ..... activation=linear, init=uniform, score=0.773, total=  11.5s\n",
            "[CV] activation=linear, init=uniform .................................\n",
            "[CV] ..... activation=linear, init=uniform, score=0.727, total=  11.3s\n",
            "[CV] activation=linear, init=uniform .................................\n",
            "[CV] ..... activation=linear, init=uniform, score=0.760, total=  11.9s\n",
            "[CV] activation=linear, init=uniform .................................\n",
            "[CV] ..... activation=linear, init=uniform, score=0.830, total=  11.5s\n",
            "[CV] activation=linear, init=uniform .................................\n",
            "[CV] ..... activation=linear, init=uniform, score=0.771, total=  11.3s\n",
            "[CV] activation=linear, init=normal ..................................\n",
            "[CV] ...... activation=linear, init=normal, score=0.773, total=  11.3s\n",
            "[CV] activation=linear, init=normal ..................................\n",
            "[CV] ...... activation=linear, init=normal, score=0.714, total=  11.4s\n",
            "[CV] activation=linear, init=normal ..................................\n",
            "[CV] ...... activation=linear, init=normal, score=0.766, total=  12.0s\n",
            "[CV] activation=linear, init=normal ..................................\n",
            "[CV] ...... activation=linear, init=normal, score=0.837, total=  12.1s\n",
            "[CV] activation=linear, init=normal ..................................\n",
            "[CV] ...... activation=linear, init=normal, score=0.771, total=  11.2s\n",
            "[CV] activation=linear, init=zero ....................................\n",
            "[CV] ........ activation=linear, init=zero, score=0.649, total=  12.0s\n",
            "[CV] activation=linear, init=zero ....................................\n",
            "[CV] ........ activation=linear, init=zero, score=0.584, total=  11.6s\n",
            "[CV] activation=linear, init=zero ....................................\n",
            "[CV] ........ activation=linear, init=zero, score=0.630, total=  11.4s\n",
            "[CV] activation=linear, init=zero ....................................\n",
            "[CV] ........ activation=linear, init=zero, score=0.745, total=  11.4s\n",
            "[CV] activation=linear, init=zero ....................................\n",
            "[CV] ........ activation=linear, init=zero, score=0.647, total=  11.9s\n"
          ],
          "name": "stdout"
        },
        {
          "output_type": "stream",
          "text": [
            "[Parallel(n_jobs=1)]: Done  60 out of  60 | elapsed: 11.7min finished\n"
          ],
          "name": "stderr"
        },
        {
          "output_type": "stream",
          "text": [
            "Best: 0.7735081911087036, using {'activation': 'tanh', 'init': 'normal'}\n",
            "0.7631016135215759 (0.03981837700345801) with: {'activation': 'softmax', 'init': 'uniform'}\n",
            "0.7592139959335327 (0.04308584587002784) with: {'activation': 'softmax', 'init': 'normal'}\n",
            "0.6511586427688598 (0.05244526932680711) with: {'activation': 'softmax', 'init': 'zero'}\n",
            "0.7683388590812683 (0.046181102962835584) with: {'activation': 'relu', 'init': 'uniform'}\n",
            "0.7670146942138671 (0.042224265288079245) with: {'activation': 'relu', 'init': 'normal'}\n",
            "0.6511586427688598 (0.05244526932680711) with: {'activation': 'relu', 'init': 'zero'}\n",
            "0.7696035981178284 (0.03797102405611401) with: {'activation': 'tanh', 'init': 'uniform'}\n",
            "0.7735081911087036 (0.04012275737227138) with: {'activation': 'tanh', 'init': 'normal'}\n",
            "0.6511586427688598 (0.05244526932680711) with: {'activation': 'tanh', 'init': 'zero'}\n",
            "0.7722094893455506 (0.03323642663383448) with: {'activation': 'linear', 'init': 'uniform'}\n",
            "0.7722179770469666 (0.03882881098465129) with: {'activation': 'linear', 'init': 'normal'}\n",
            "0.6511586427688598 (0.05244526932680711) with: {'activation': 'linear', 'init': 'zero'}\n"
          ],
          "name": "stdout"
        }
      ]
    },
    {
      "cell_type": "markdown",
      "metadata": {
        "id": "VML_sIXTmuzN",
        "colab_type": "text"
      },
      "source": [
        "<h4>So After Tuning the Hyperparameters with Grid Search we see that 'batch_size': 30, 'epochs': 10 'dropout_rate': 0.1, 'learn_rate': 0.001 'activation': 'tanh', 'init': 'normal' are the best parameters to train this model on diabetes Dataset</h4>"
      ]
    },
    {
      "cell_type": "code",
      "metadata": {
        "id": "MBdlA09qkKMc",
        "colab_type": "code",
        "colab": {}
      },
      "source": [
        "# generate predictions with optimal hyperparameters\n",
        "y_pred = grid.predict(X_standardized)"
      ],
      "execution_count": 0,
      "outputs": []
    },
    {
      "cell_type": "code",
      "metadata": {
        "id": "4E-zUDYIkOCb",
        "colab_type": "code",
        "colab": {}
      },
      "source": [
        "# Generate a classification report\n",
        "from sklearn.metrics import classification_report, accuracy_score\n",
        "\n",
        "print(accuracy_score(Y, y_pred))\n",
        "print(classification_report(Y, y_pred))"
      ],
      "execution_count": 0,
      "outputs": []
    }
  ]
}